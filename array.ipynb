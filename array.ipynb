{
 "cells": [
  {
   "cell_type": "markdown",
   "id": "17e4ce65-f0fc-4797-a955-31869f0e1f50",
   "metadata": {},
   "source": [
    "## Array Class"
   ]
  },
  {
   "cell_type": "code",
   "execution_count": 1,
   "id": "d080cf37-cfef-4807-913f-e1b78e9b7a15",
   "metadata": {},
   "outputs": [],
   "source": [
    "from array import array"
   ]
  },
  {
   "cell_type": "markdown",
   "id": "d25c8463-130d-471c-8f20-7a368f098246",
   "metadata": {},
   "source": [
    "### Declare and Initialize"
   ]
  },
  {
   "cell_type": "code",
   "execution_count": 4,
   "id": "44f60f8b-3139-48f5-98c4-8146d6f1c6dc",
   "metadata": {},
   "outputs": [
    {
     "name": "stdout",
     "output_type": "stream",
     "text": [
      "array('i', [1, 2, 3, 4, 5])\n",
      "<class 'array.array'>\n",
      "True\n",
      "4360022400\n",
      "5\n",
      "1\n",
      "15\n",
      "5\n"
     ]
    }
   ],
   "source": [
    "arr1 = array('i',[1,2,3,4,5])\n",
    "print(arr1)\n",
    "print(type(arr1))\n",
    "print(isinstance(arr1,array)) #arr1 is an object of an array class\n",
    "print(id(arr1))\n",
    "print(max(arr1))\n",
    "print(min(arr1))\n",
    "print(sum(arr1))\n",
    "print(len(arr1))"
   ]
  },
  {
   "cell_type": "markdown",
   "id": "079f0fb8-3108-4337-b9c8-96427c907507",
   "metadata": {},
   "source": [
    "### Exploring array class"
   ]
  },
  {
   "cell_type": "code",
   "execution_count": 9,
   "id": "0d23c2db-93fd-49c4-8f52-28986b821ab7",
   "metadata": {},
   "outputs": [
    {
     "name": "stdout",
     "output_type": "stream",
     "text": [
      "Help on class array in module array:\n",
      "\n",
      "class array(builtins.object)\n",
      " |  array(typecode [, initializer]) -> array\n",
      " |  \n",
      " |  Return a new array whose items are restricted by typecode, and\n",
      " |  initialized from the optional initializer value, which must be a list,\n",
      " |  string or iterable over elements of the appropriate type.\n",
      " |  \n",
      " |  Arrays represent basic values and behave very much like lists, except\n",
      " |  the type of objects stored in them is constrained. The type is specified\n",
      " |  at object creation time by using a type code, which is a single character.\n",
      " |  The following type codes are defined:\n",
      " |  \n",
      " |      Type code   C Type             Minimum size in bytes\n",
      " |      'b'         signed integer     1\n",
      " |      'B'         unsigned integer   1\n",
      " |      'u'         Unicode character  2 (see note)\n",
      " |      'h'         signed integer     2\n",
      " |      'H'         unsigned integer   2\n",
      " |      'i'         signed integer     2\n",
      " |      'I'         unsigned integer   2\n",
      " |      'l'         signed integer     4\n",
      " |      'L'         unsigned integer   4\n",
      " |      'q'         signed integer     8 (see note)\n",
      " |      'Q'         unsigned integer   8 (see note)\n",
      " |      'f'         floating point     4\n",
      " |      'd'         floating point     8\n",
      " |  \n",
      " |  NOTE: The 'u' typecode corresponds to Python's unicode character. On\n",
      " |  narrow builds this is 2-bytes on wide builds this is 4-bytes.\n",
      " |  \n",
      " |  NOTE: The 'q' and 'Q' type codes are only available if the platform\n",
      " |  C compiler used to build Python supports 'long long', or, on Windows,\n",
      " |  '__int64'.\n",
      " |  \n",
      " |  Methods:\n",
      " |  \n",
      " |  append() -- append a new item to the end of the array\n",
      " |  buffer_info() -- return information giving the current memory info\n",
      " |  byteswap() -- byteswap all the items of the array\n",
      " |  count() -- return number of occurrences of an object\n",
      " |  extend() -- extend array by appending multiple elements from an iterable\n",
      " |  fromfile() -- read items from a file object\n",
      " |  fromlist() -- append items from the list\n",
      " |  frombytes() -- append items from the string\n",
      " |  index() -- return index of first occurrence of an object\n",
      " |  insert() -- insert a new item into the array at a provided position\n",
      " |  pop() -- remove and return item (default last)\n",
      " |  remove() -- remove first occurrence of an object\n",
      " |  reverse() -- reverse the order of the items in the array\n",
      " |  tofile() -- write all items to a file object\n",
      " |  tolist() -- return the array converted to an ordinary list\n",
      " |  tobytes() -- return the array converted to a string\n",
      " |  \n",
      " |  Attributes:\n",
      " |  \n",
      " |  typecode -- the typecode character used to create the array\n",
      " |  itemsize -- the length in bytes of one array item\n",
      " |  \n",
      " |  Methods defined here:\n",
      " |  \n",
      " |  __add__(self, value, /)\n",
      " |      Return self+value.\n",
      " |  \n",
      " |  __contains__(self, key, /)\n",
      " |      Return key in self.\n",
      " |  \n",
      " |  __copy__(self, /)\n",
      " |      Return a copy of the array.\n",
      " |  \n",
      " |  __deepcopy__(self, unused, /)\n",
      " |      Return a copy of the array.\n",
      " |  \n",
      " |  __delitem__(self, key, /)\n",
      " |      Delete self[key].\n",
      " |  \n",
      " |  __eq__(self, value, /)\n",
      " |      Return self==value.\n",
      " |  \n",
      " |  __ge__(self, value, /)\n",
      " |      Return self>=value.\n",
      " |  \n",
      " |  __getattribute__(self, name, /)\n",
      " |      Return getattr(self, name).\n",
      " |  \n",
      " |  __getitem__(self, key, /)\n",
      " |      Return self[key].\n",
      " |  \n",
      " |  __gt__(self, value, /)\n",
      " |      Return self>value.\n",
      " |  \n",
      " |  __iadd__(self, value, /)\n",
      " |      Implement self+=value.\n",
      " |  \n",
      " |  __imul__(self, value, /)\n",
      " |      Implement self*=value.\n",
      " |  \n",
      " |  __iter__(self, /)\n",
      " |      Implement iter(self).\n",
      " |  \n",
      " |  __le__(self, value, /)\n",
      " |      Return self<=value.\n",
      " |  \n",
      " |  __len__(self, /)\n",
      " |      Return len(self).\n",
      " |  \n",
      " |  __lt__(self, value, /)\n",
      " |      Return self<value.\n",
      " |  \n",
      " |  __mul__(self, value, /)\n",
      " |      Return self*value.\n",
      " |  \n",
      " |  __ne__(self, value, /)\n",
      " |      Return self!=value.\n",
      " |  \n",
      " |  __reduce_ex__(self, value, /)\n",
      " |      Return state information for pickling.\n",
      " |  \n",
      " |  __repr__(self, /)\n",
      " |      Return repr(self).\n",
      " |  \n",
      " |  __rmul__(self, value, /)\n",
      " |      Return value*self.\n",
      " |  \n",
      " |  __setitem__(self, key, value, /)\n",
      " |      Set self[key] to value.\n",
      " |  \n",
      " |  __sizeof__(self, /)\n",
      " |      Size of the array in memory, in bytes.\n",
      " |  \n",
      " |  append(self, v, /)\n",
      " |      Append new value v to the end of the array.\n",
      " |  \n",
      " |  buffer_info(self, /)\n",
      " |      Return a tuple (address, length) giving the current memory address and the length in items of the buffer used to hold array's contents.\n",
      " |      \n",
      " |      The length should be multiplied by the itemsize attribute to calculate\n",
      " |      the buffer length in bytes.\n",
      " |  \n",
      " |  byteswap(self, /)\n",
      " |      Byteswap all items of the array.\n",
      " |      \n",
      " |      If the items in the array are not 1, 2, 4, or 8 bytes in size, RuntimeError is\n",
      " |      raised.\n",
      " |  \n",
      " |  count(self, v, /)\n",
      " |      Return number of occurrences of v in the array.\n",
      " |  \n",
      " |  extend(self, bb, /)\n",
      " |      Append items to the end of the array.\n",
      " |  \n",
      " |  frombytes(self, buffer, /)\n",
      " |      Appends items from the string, interpreting it as an array of machine values, as if it had been read from a file using the fromfile() method.\n",
      " |  \n",
      " |  fromfile(self, f, n, /)\n",
      " |      Read n objects from the file object f and append them to the end of the array.\n",
      " |  \n",
      " |  fromlist(self, list, /)\n",
      " |      Append items to array from list.\n",
      " |  \n",
      " |  fromunicode(self, ustr, /)\n",
      " |      Extends this array with data from the unicode string ustr.\n",
      " |      \n",
      " |      The array must be a unicode type array; otherwise a ValueError is raised.\n",
      " |      Use array.frombytes(ustr.encode(...)) to append Unicode data to an array of\n",
      " |      some other type.\n",
      " |  \n",
      " |  index(self, v, start=0, stop=9223372036854775807, /)\n",
      " |      Return index of first occurrence of v in the array.\n",
      " |      \n",
      " |      Raise ValueError if the value is not present.\n",
      " |  \n",
      " |  insert(self, i, v, /)\n",
      " |      Insert a new item v into the array before position i.\n",
      " |  \n",
      " |  pop(self, i=-1, /)\n",
      " |      Return the i-th element and delete it from the array.\n",
      " |      \n",
      " |      i defaults to -1.\n",
      " |  \n",
      " |  remove(self, v, /)\n",
      " |      Remove the first occurrence of v in the array.\n",
      " |  \n",
      " |  reverse(self, /)\n",
      " |      Reverse the order of the items in the array.\n",
      " |  \n",
      " |  tobytes(self, /)\n",
      " |      Convert the array to an array of machine values and return the bytes representation.\n",
      " |  \n",
      " |  tofile(self, f, /)\n",
      " |      Write all items (as machine values) to the file object f.\n",
      " |  \n",
      " |  tolist(self, /)\n",
      " |      Convert array to an ordinary list with the same items.\n",
      " |  \n",
      " |  tounicode(self, /)\n",
      " |      Extends this array with data from the unicode string ustr.\n",
      " |      \n",
      " |      Convert the array to a unicode string.  The array must be a unicode type array;\n",
      " |      otherwise a ValueError is raised.  Use array.tobytes().decode() to obtain a\n",
      " |      unicode string from an array of some other type.\n",
      " |  \n",
      " |  ----------------------------------------------------------------------\n",
      " |  Static methods defined here:\n",
      " |  \n",
      " |  __new__(*args, **kwargs) from builtins.type\n",
      " |      Create and return a new object.  See help(type) for accurate signature.\n",
      " |  \n",
      " |  ----------------------------------------------------------------------\n",
      " |  Data descriptors defined here:\n",
      " |  \n",
      " |  itemsize\n",
      " |      the size, in bytes, of one array item\n",
      " |  \n",
      " |  typecode\n",
      " |      the typecode character used to create the array\n",
      " |  \n",
      " |  ----------------------------------------------------------------------\n",
      " |  Data and other attributes defined here:\n",
      " |  \n",
      " |  __hash__ = None\n",
      "\n"
     ]
    }
   ],
   "source": [
    "# dir (array)\n",
    "help(array)"
   ]
  },
  {
   "cell_type": "code",
   "execution_count": 11,
   "id": "923ff28d-5a39-4c6d-992b-4d5fd738dd64",
   "metadata": {},
   "outputs": [
    {
     "name": "stdout",
     "output_type": "stream",
     "text": [
      "array('i', [1, 2, 3, 4, 5, 9])\n",
      "array('i', [1, 2, 3, 4, 5, 9, 9])\n",
      "array('i', [1, 2, 3, 4, 5, 9, 9, 7])\n"
     ]
    }
   ],
   "source": [
    "# append(self, v, /)\n",
    "print(arr1)\n",
    "arr1.append(9)\n",
    "print(arr1)\n",
    "arr1.append(7)\n",
    "print(arr1)"
   ]
  },
  {
   "cell_type": "code",
   "execution_count": 17,
   "id": "631471ff-6948-4149-bfcc-ab835d8ed79a",
   "metadata": {},
   "outputs": [
    {
     "name": "stdout",
     "output_type": "stream",
     "text": [
      "5\n",
      "2\n",
      "0\n"
     ]
    }
   ],
   "source": [
    "# count(self, v, /) -> int\n",
    "arr1=array('i',[1,2,3,4,5,6,7,8,7,6,3,5,2,3,4,2,6,709,7,4,3,8,8,9,0,6,1,2,6,3,8,9,0,1,2,3,4])\n",
    "result=arr1.count(2)\n",
    "print(result)\n",
    "result=arr1.count(9)\n",
    "print(result)\n",
    "result=arr1.count(10)\n",
    "print(result)"
   ]
  },
  {
   "cell_type": "code",
   "execution_count": null,
   "id": "abe0895e-c9a3-4c5c-8612-9bed2bf955ee",
   "metadata": {},
   "outputs": [],
   "source": [
    "# arr1=array('i',[1,2,3,4,5,6,7,8,7,6,3,5,2,3,4,2,6,709,7,4,3,8,8,9,0,6,1,2,6,3,8,9,0,1,2,3,4])"
   ]
  },
  {
   "cell_type": "code",
   "execution_count": 25,
   "id": "6654b7b6-c50b-42c9-be28-3190dbba503e",
   "metadata": {},
   "outputs": [
    {
     "name": "stdout",
     "output_type": "stream",
     "text": [
      "8\n",
      "14\n",
      "20\n",
      "28\n",
      "35\n",
      "array('i', [5, 6, 7, 8, 9, 1, 2, 3, 6, 7, 8, 9, 6, 4, 6, 2, 4, 7, 8, 9, 1, 2, 3, 5, 6, 7, 8, 9, 5, 2, 6, 7, 9, 5, 4])\n"
     ]
    }
   ],
   "source": [
    "# extend(self, bb, /)\n",
    "arr1=array('i',[5,6,7,8,9,1,2,3])\n",
    "print(len(arr1)) #43\n",
    "arr1.extend([6,7,8,9,6,4]) #list\n",
    "print(len(arr1))\n",
    "arr1.extend((6,2,4,7,8,9)) #tuple\n",
    "print(len(arr1))\n",
    "arr1.extend({5,6,7,8,9,3,2,1}) #set\n",
    "print(len(arr1))\n",
    "arr2=array('i',[5,2,6,7,9,5,4]) #array\n",
    "arr1.extend(arr2)\n",
    "print(len(arr1))\n",
    "print(arr1)"
   ]
  },
  {
   "cell_type": "code",
   "execution_count": 8,
   "id": "caf0ff0b-77e1-46c0-88a3-22c147704583",
   "metadata": {},
   "outputs": [
    {
     "name": "stdout",
     "output_type": "stream",
     "text": [
      "35\n",
      "4\n",
      "6\n",
      "15\n",
      "21\n"
     ]
    }
   ],
   "source": [
    "# index(self, v, start=0, stop=9223372036854775807, /)\n",
    "arr1=array('i', [5, 6, 7, 8, 9, 1, 2, 3, 6, 7, 8, 9, 6, 4, 6, 2, 4, 7, 8, 9, 1, 2, 3, 5, 6, 7, 8, 9, 5, 2, 6, 7, 9, 5, 4])\n",
    "print(len(arr1))\n",
    "print(arr1.count(2))\n",
    "result=arr1.index(2,0,len(arr1))\n",
    "print(result)\n",
    "result = arr1.index(2,result+1,len(arr1))\n",
    "print(result)\n",
    "result = arr1.index(2,result+1,len(arr1))\n",
    "print(result)"
   ]
  },
  {
   "cell_type": "code",
   "execution_count": 6,
   "id": "e4a2f699-b8d9-4805-a44f-ce3336b24296",
   "metadata": {},
   "outputs": [],
   "source": [
    "from array import array\n"
   ]
  },
  {
   "cell_type": "code",
   "execution_count": 10,
   "id": "d29e7163-15ed-4c22-8aea-45a91fdd87c0",
   "metadata": {},
   "outputs": [
    {
     "name": "stdout",
     "output_type": "stream",
     "text": [
      "array('i', [5, 6, 7, 8, 9, 1, 2, 3, 6, 7, 8, 9, 6, 4, 6, 2, 4, 7, 8, 9, 1, 2, 3, 5, 6, 7, 8, 9, 5, 2, 6, 7, 9, 5, 4])\n",
      "array('i', [5, 6, 7, 8, 9, 9, 1, 2, 3, 6, 7, 8, 9, 6, 4, 6, 2, 4, 7, 8, 9, 1, 2, 3, 5, 6, 7, 8, 9, 5, 2, 6, 7, 9, 5, 4])\n"
     ]
    }
   ],
   "source": [
    "# insert(self, i, v, /)\n",
    "arr1=array('i', [5, 6, 7, 8, 9, 1, 2, 3, 6, 7, 8, 9, 6, 4, 6, 2, 4, 7, 8, 9, 1, 2, 3, 5, 6, 7, 8, 9, 5, 2, 6, 7, 9, 5, 4])\n",
    "print(arr1)\n",
    "arr1.insert(4,9)\n",
    "print(arr1)"
   ]
  },
  {
   "cell_type": "code",
   "execution_count": 20,
   "id": "04f3412f-a07d-4be3-8d2e-bc8b7671823c",
   "metadata": {},
   "outputs": [
    {
     "name": "stdout",
     "output_type": "stream",
     "text": [
      "array('i', [5, 6, 7, 8, 9, 9, 7, 8, 9, 6, 5, 4, 6, 2, 4, 7, 8, 9, 1, 2, 3, 5, 6, 7, 8, 9, 5, 2, 6, 7, 5, 5, 5])\n",
      "array('i', [5, 6, 7, 8, 9, 9, 8, 9, 6, 5, 4, 6, 2, 4, 7, 8, 9, 1, 2, 3, 5, 6, 7, 8, 9, 5, 2, 6, 7, 5, 5, 5])\n",
      "array('i', [5, 6, 7, 8, 9, 9, 8, 9, 6, 5, 4, 6, 2, 4, 7, 8, 9, 1, 2, 3, 5, 6, 7, 8, 9, 5, 2, 6, 7, 5, 5])\n"
     ]
    }
   ],
   "source": [
    "# pop(self, i=-1, /)\n",
    "print(arr1)\n",
    "arr1.pop(6)\n",
    "print(arr1)\n",
    "arr1.pop()\n",
    "print(arr1)\n",
    "# arr1.pop(100)\n",
    "# print(arr1)\n",
    "# IndexError: pop index out of range"
   ]
  },
  {
   "cell_type": "code",
   "execution_count": 19,
   "id": "ba7542d2-b9ee-4f3f-8518-3814c51ecc19",
   "metadata": {},
   "outputs": [
    {
     "name": "stdout",
     "output_type": "stream",
     "text": [
      "array('i', [5, 6, 7, 8, 9, 9, 7, 8, 9, 6, 4, 6, 2, 4, 7, 8, 9, 1, 2, 3, 5, 6, 7, 8, 9, 5, 2, 6, 7, 5, 5])\n",
      "array('i', [5, 6, 7, 8, 9, 9, 7, 8, 9, 6, 4, 6, 2, 4, 7, 8, 9, 1, 2, 3, 5, 6, 7, 8, 9, 5, 2, 6, 7, 5, 5, 5])\n",
      "array('i', [5, 6, 7, 8, 9, 9, 7, 8, 9, 6, 5, 4, 6, 2, 4, 7, 8, 9, 1, 2, 3, 5, 6, 7, 8, 9, 5, 2, 6, 7, 5, 5, 5])\n"
     ]
    }
   ],
   "source": [
    "print(arr1)\n",
    "arr1.append(5)\n",
    "print(arr1)\n",
    "arr1.insert(10,5)\n",
    "print(arr1)"
   ]
  },
  {
   "cell_type": "code",
   "execution_count": 25,
   "id": "6876c18a-3c42-4022-a4e3-174e411528d1",
   "metadata": {},
   "outputs": [
    {
     "name": "stdout",
     "output_type": "stream",
     "text": [
      "array('i', [5, 2, 7, 8, 4, 3, 3, 2])\n",
      "2\n",
      "array('i', [5, 7, 8, 4, 3, 3])\n"
     ]
    }
   ],
   "source": [
    "# remove(self, v, /)\n",
    "arr2 = array('i',[5,2,7,8,4,3,3,2])\n",
    "print(arr2)\n",
    "# arr2.remove(2) #value\n",
    "# print(arr2)\n",
    "value=2\n",
    "result=arr2.count(value)\n",
    "print(result)\n",
    "if result>=1:\n",
    "    for i in range(result):\n",
    "        arr2.remove(value)\n",
    "print(arr2)"
   ]
  },
  {
   "cell_type": "code",
   "execution_count": 28,
   "id": "1d790e9e-f2ff-42c4-8ee6-c4fb6731ba7b",
   "metadata": {},
   "outputs": [
    {
     "name": "stdout",
     "output_type": "stream",
     "text": [
      "array('i', [5, 2, 7, 8, 4, 3, 3, 2])\n",
      "array('i', [2, 3, 3, 4, 8, 7, 2, 5])\n"
     ]
    }
   ],
   "source": [
    "# reverse(self, /)\n",
    "arr1=array('i',[5,2,7,8,4,3,3,2])\n",
    "print(arr1)\n",
    "arr1.reverse()\n",
    "print(arr1)"
   ]
  },
  {
   "cell_type": "code",
   "execution_count": 29,
   "id": "b3987ed9-e5ca-4a4b-b0db-ac1ca73f9613",
   "metadata": {},
   "outputs": [
    {
     "name": "stdout",
     "output_type": "stream",
     "text": [
      "4\n",
      "i\n"
     ]
    }
   ],
   "source": [
    "# itemsize,typecode\n",
    "arr1=array('i',[5,2,7,8,4,3,3,2])\n",
    "print(arr1.itemsize) #memory\n",
    "print(arr1.typecode) #type"
   ]
  },
  {
   "cell_type": "code",
   "execution_count": null,
   "id": "1b999925-de0f-416e-9dc6-9feac48c3e70",
   "metadata": {},
   "outputs": [],
   "source": [
    "# Task-1\n",
    "\"\"\"\n",
    "Main Menu\n",
    "1.Add\n",
    "2.Display All\n",
    "3.Search\n",
    "4.Search And Edit\n",
    "5.Search And Delete\n",
    "0.Exit\n",
    "---------------------\n",
    "Enter Your Choice : _1\n",
    "---------------------\n",
    "Enter Value : _3\n",
    "---------------------\n",
    "Main Menu\n",
    "1.Add\n",
    "2.Display All\n",
    "3.Search\n",
    "4.Search And Edit\n",
    "5.Search And Delete\n",
    "0.Exit\n",
    "---------------------\n",
    "Enter Your Choice : 2\n",
    "---------------------\n",
    "3\n",
    "---------------------\n",
    "Main Menu\n",
    "1.Add\n",
    "2.Display All\n",
    "3.Search\n",
    "4.Search And Edit\n",
    "5.Search And Delete\n",
    "0.Exit\n",
    "---------------------\n",
    "Enter Your Choice : 3\n",
    "---------------------\n",
    "Enter Number To Search : 3\n",
    "3 Found At 0 Index\n",
    "---------------------\n",
    "Main Menu\n",
    "1.Add\n",
    "2.Display All\n",
    "3.Search\n",
    "4.Search And Edit\n",
    "5.Search And Delete\n",
    "0.Exit\n",
    "---------------------\n",
    "Enter Your Choice : 4\n",
    "---------------------\n"
   ]
  }
 ],
 "metadata": {
  "kernelspec": {
   "display_name": "Python 3 (ipykernel)",
   "language": "python",
   "name": "python3"
  },
  "language_info": {
   "codemirror_mode": {
    "name": "ipython",
    "version": 3
   },
   "file_extension": ".py",
   "mimetype": "text/x-python",
   "name": "python",
   "nbconvert_exporter": "python",
   "pygments_lexer": "ipython3",
   "version": "3.10.4"
  }
 },
 "nbformat": 4,
 "nbformat_minor": 5
}
